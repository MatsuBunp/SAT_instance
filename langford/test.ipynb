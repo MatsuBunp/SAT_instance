{
 "cells": [
  {
   "cell_type": "code",
   "execution_count": 112,
   "metadata": {},
   "outputs": [
    {
     "name": "stdout",
     "output_type": "stream",
     "text": [
      "['1 3 5 6 0', '-1 -3 0', '-1 -5 0', '-1 -6 0', '-3 -5 0', '-3 -6 0', '-5 -6 0']\n"
     ]
    }
   ],
   "source": [
    "def S(a):\n",
    "    result=[]\n",
    "    # リストの要素をスペースで区切った文字列に変換\n",
    "    result.append(' '.join(map(str, a))+' 0')\n",
    "    for i in range(len(a)):\n",
    "        for j in range(i+1, len(a)):\n",
    "            result.append(f'-{a[i]} -{a[j]} 0')\n",
    "    return result\n",
    "\n",
    "# 例の使用法\n",
    "a = [1, 3, 5, 6]\n",
    "print(S(a))  # 出力: \"1 3 5 6 0\"\n",
    "\n"
   ]
  },
  {
   "cell_type": "code",
   "execution_count": 14,
   "metadata": {},
   "outputs": [],
   "source": [
    "with open('test.txt', 'w') as f:\n",
    "    \n",
    "    for item in S(a):\n",
    "        f.write(item+'\\n')"
   ]
  },
  {
   "cell_type": "code",
   "execution_count": 24,
   "metadata": {},
   "outputs": [],
   "source": [
    "inputs=input('Enter integer n for langford(n):')"
   ]
  },
  {
   "cell_type": "code",
   "execution_count": 35,
   "metadata": {},
   "outputs": [],
   "source": [
    "length=int(inputs)"
   ]
  },
  {
   "cell_type": "code",
   "execution_count": 118,
   "metadata": {},
   "outputs": [],
   "source": [
    "sum = 0\n",
    "list=[]\n",
    "x_index=[]\n",
    "for i in range(1, length+1):\n",
    "    list.append([k for k in range(sum+1, sum+2*length-i)]) # d_1~n\n",
    "    x_index.append(sum)\n",
    "    sum += 2*length-i-1\n",
    "list.append([i+1 for i in x_index]) # s_1\n",
    "list.append([i+2 for i in x_index]) # s_2\n",
    "def x2y(a, b):\n",
    "    return x_index[a-1]+b\n",
    "for i in range(3, 2*length+1):\n",
    "    tekitou=[x2y(j, i-j-1) for j in range(1, i-1) if j <= length] + [x2y(j, i) for j in range(1, 2*length-i) if i<2*length-1]\n",
    "    list.append(tekitou)\n"
   ]
  },
  {
   "cell_type": "code",
   "execution_count": 116,
   "metadata": {},
   "outputs": [
    {
     "data": {
      "text/plain": [
       "[[1, 2, 3, 4],\n",
       " [5, 6, 7],\n",
       " [8, 9],\n",
       " [1, 5, 8],\n",
       " [2, 6, 9],\n",
       " [1, 3, 7],\n",
       " [2, 5, 4],\n",
       " [3, 6, 8],\n",
       " [4, 7, 9]]"
      ]
     },
     "execution_count": 116,
     "metadata": {},
     "output_type": "execute_result"
    }
   ],
   "source": [
    "list"
   ]
  },
  {
   "cell_type": "code",
   "execution_count": 122,
   "metadata": {},
   "outputs": [
    {
     "name": "stdout",
     "output_type": "stream",
     "text": [
      "['1 2 3 4 0', '-1 -2 0', '-1 -3 0', '-1 -4 0', '-2 -3 0', '-2 -4 0', '-3 -4 0']\n",
      "['5 6 7 0', '-5 -6 0', '-5 -7 0', '-6 -7 0']\n",
      "['8 9 0', '-8 -9 0']\n",
      "['1 5 8 0', '-1 -5 0', '-1 -8 0', '-5 -8 0']\n",
      "['2 6 9 0', '-2 -6 0', '-2 -9 0', '-6 -9 0']\n",
      "['1 3 7 0', '-1 -3 0', '-1 -7 0', '-3 -7 0']\n",
      "['2 5 4 0', '-2 -5 0', '-2 -4 0', '-5 -4 0']\n",
      "['3 6 8 0', '-3 -6 0', '-3 -8 0', '-6 -8 0']\n",
      "['4 7 9 0', '-4 -7 0', '-4 -9 0', '-7 -9 0']\n"
     ]
    }
   ],
   "source": [
    "for i in range(len(list)):\n",
    "    print(S(list[i]))"
   ]
  },
  {
   "cell_type": "code",
   "execution_count": 123,
   "metadata": {},
   "outputs": [],
   "source": [
    "with open('test.txt', 'w') as f:\n",
    "    for i in range(len(list)):\n",
    "        for item in S(list[i]):\n",
    "            f.write(item+'\\n')"
   ]
  },
  {
   "cell_type": "code",
   "execution_count": 126,
   "metadata": {},
   "outputs": [],
   "source": [
    "def remove_duplicate_lines(input_file, output_file):\n",
    "    with open(input_file, 'r', encoding='utf-8') as f:\n",
    "        unique_lines = set(f.readlines())\n",
    "        line_count = len(unique_lines)\n",
    "\n",
    "    with open(output_file, 'w', encoding='utf-8') as f:\n",
    "        f.write(f'p cnf {int(1.5*length*(length-1))} {line_count}\\n')\n",
    "        f.writelines(unique_lines)\n",
    "\n",
    "# ファイル名を指定\n",
    "input_file = 'test.txt'\n",
    "output_file = 'test_unique.txt'\n",
    "\n",
    "# 関数を呼び出して重複行を削除\n",
    "remove_duplicate_lines(input_file, output_file)\n"
   ]
  },
  {
   "cell_type": "code",
   "execution_count": 134,
   "metadata": {},
   "outputs": [
    {
     "name": "stdout",
     "output_type": "stream",
     "text": [
      "i:3,j:1\n",
      "i:3,j:2\n",
      "i:3,j:3\n",
      "i:3,j:4\n",
      "i:3,j:5\n",
      "i:4,j:1\n",
      "i:4,j:2\n",
      "i:4,j:3\n",
      "i:4,j:4\n",
      "i:4,j:5\n",
      "i:5,j:1\n",
      "i:5,j:2\n",
      "i:5,j:3\n",
      "i:5,j:4\n",
      "i:6,j:1\n",
      "i:6,j:2\n",
      "i:6,j:3\n",
      "i:7,j:1\n",
      "i:7,j:2\n",
      "i:8,j:1\n"
     ]
    }
   ],
   "source": [
    "x_index=[0,8,15,21,26]\n",
    "tekitou=[]\n",
    "length=5\n",
    "def x2y(a, b):\n",
    "    return x_index[a-1]+b\n",
    "for i in range(3, 2*length+1):\n",
    "    for j in range(1, 2*length-i):\n",
    "        if j<=length:\n",
    "        #if i<2*length-1:\n",
    "            print(f'i:{i},j:{j}')\n",
    "            tekitou.append(x2y(j,i))"
   ]
  },
  {
   "cell_type": "code",
   "execution_count": null,
   "metadata": {},
   "outputs": [],
   "source": []
  }
 ],
 "metadata": {
  "kernelspec": {
   "display_name": "base",
   "language": "python",
   "name": "python3"
  },
  "language_info": {
   "codemirror_mode": {
    "name": "ipython",
    "version": 3
   },
   "file_extension": ".py",
   "mimetype": "text/x-python",
   "name": "python",
   "nbconvert_exporter": "python",
   "pygments_lexer": "ipython3",
   "version": "3.11.7"
  }
 },
 "nbformat": 4,
 "nbformat_minor": 2
}
