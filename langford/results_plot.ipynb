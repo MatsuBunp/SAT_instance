{
 "cells": [
  {
   "cell_type": "code",
   "execution_count": null,
   "metadata": {},
   "outputs": [],
   "source": []
  }
 ],
 "metadata": {
  "interpreter": {
   "hash": "e72ad9f7ee0b0d4cf2dba33baaa755e83180fda8d60fe32f0da2d82be7a4cd71"
  },
  "kernelspec": {
   "display_name": "Python 3.10.9 ('tekitou': conda)",
   "language": "python",
   "name": "python3"
  },
  "language_info": {
   "name": "python",
   "version": "3.10.9"
  },
  "orig_nbformat": 4
 },
 "nbformat": 4,
 "nbformat_minor": 2
}
